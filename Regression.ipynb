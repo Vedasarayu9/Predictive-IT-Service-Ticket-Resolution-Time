{
 "cells": [
  {
   "cell_type": "code",
   "execution_count": 1,
   "id": "ac94c35a",
   "metadata": {},
   "outputs": [],
   "source": [
    "import pandas as pd\n",
    "import seaborn as sns\n",
    "from sklearn.model_selection import train_test_split\n",
    "from sklearn.linear_model import LinearRegression"
   ]
  },
  {
   "cell_type": "markdown",
   "id": "f05af2dd",
   "metadata": {},
   "source": [
    "# Data loading"
   ]
  },
  {
   "cell_type": "code",
   "execution_count": 2,
   "id": "753ce014",
   "metadata": {},
   "outputs": [],
   "source": [
    "df = pd.read_csv(\"ticket_service.csv\")"
   ]
  },
  {
   "cell_type": "code",
   "execution_count": 3,
   "id": "31a3b08d",
   "metadata": {},
   "outputs": [
    {
     "data": {
      "text/html": [
       "<div>\n",
       "<style scoped>\n",
       "    .dataframe tbody tr th:only-of-type {\n",
       "        vertical-align: middle;\n",
       "    }\n",
       "\n",
       "    .dataframe tbody tr th {\n",
       "        vertical-align: top;\n",
       "    }\n",
       "\n",
       "    .dataframe thead th {\n",
       "        text-align: right;\n",
       "    }\n",
       "</style>\n",
       "<table border=\"1\" class=\"dataframe\">\n",
       "  <thead>\n",
       "    <tr style=\"text-align: right;\">\n",
       "      <th></th>\n",
       "      <th>Ticket_ID</th>\n",
       "      <th>Issue_Type</th>\n",
       "      <th>Priority</th>\n",
       "      <th>Resolution_Time_Hours</th>\n",
       "    </tr>\n",
       "  </thead>\n",
       "  <tbody>\n",
       "    <tr>\n",
       "      <th>0</th>\n",
       "      <td>TICKET_0001</td>\n",
       "      <td>Network Issue</td>\n",
       "      <td>High</td>\n",
       "      <td>4.69</td>\n",
       "    </tr>\n",
       "    <tr>\n",
       "      <th>1</th>\n",
       "      <td>TICKET_0002</td>\n",
       "      <td>Network Issue</td>\n",
       "      <td>High</td>\n",
       "      <td>30.10</td>\n",
       "    </tr>\n",
       "    <tr>\n",
       "      <th>2</th>\n",
       "      <td>TICKET_0003</td>\n",
       "      <td>Software Bug</td>\n",
       "      <td>Critical</td>\n",
       "      <td>13.17</td>\n",
       "    </tr>\n",
       "    <tr>\n",
       "      <th>3</th>\n",
       "      <td>TICKET_0004</td>\n",
       "      <td>Hardware Failure</td>\n",
       "      <td>Medium</td>\n",
       "      <td>9.13</td>\n",
       "    </tr>\n",
       "    <tr>\n",
       "      <th>4</th>\n",
       "      <td>TICKET_0005</td>\n",
       "      <td>Hardware Failure</td>\n",
       "      <td>Critical</td>\n",
       "      <td>1.70</td>\n",
       "    </tr>\n",
       "  </tbody>\n",
       "</table>\n",
       "</div>"
      ],
      "text/plain": [
       "     Ticket_ID        Issue_Type  Priority  Resolution_Time_Hours\n",
       "0  TICKET_0001     Network Issue      High                   4.69\n",
       "1  TICKET_0002     Network Issue      High                  30.10\n",
       "2  TICKET_0003      Software Bug  Critical                  13.17\n",
       "3  TICKET_0004  Hardware Failure    Medium                   9.13\n",
       "4  TICKET_0005  Hardware Failure  Critical                   1.70"
      ]
     },
     "execution_count": 3,
     "metadata": {},
     "output_type": "execute_result"
    }
   ],
   "source": [
    "df.head()"
   ]
  },
  {
   "cell_type": "code",
   "execution_count": 4,
   "id": "c2910c6c",
   "metadata": {},
   "outputs": [
    {
     "name": "stdout",
     "output_type": "stream",
     "text": [
      "<class 'pandas.core.frame.DataFrame'>\n",
      "RangeIndex: 1000 entries, 0 to 999\n",
      "Data columns (total 4 columns):\n",
      " #   Column                 Non-Null Count  Dtype  \n",
      "---  ------                 --------------  -----  \n",
      " 0   Ticket_ID              1000 non-null   object \n",
      " 1   Issue_Type             1000 non-null   object \n",
      " 2   Priority               1000 non-null   object \n",
      " 3   Resolution_Time_Hours  1000 non-null   float64\n",
      "dtypes: float64(1), object(3)\n",
      "memory usage: 31.4+ KB\n"
     ]
    }
   ],
   "source": [
    "df.info()"
   ]
  },
  {
   "cell_type": "code",
   "execution_count": 5,
   "id": "5b487627",
   "metadata": {},
   "outputs": [
    {
     "data": {
      "text/html": [
       "<div>\n",
       "<style scoped>\n",
       "    .dataframe tbody tr th:only-of-type {\n",
       "        vertical-align: middle;\n",
       "    }\n",
       "\n",
       "    .dataframe tbody tr th {\n",
       "        vertical-align: top;\n",
       "    }\n",
       "\n",
       "    .dataframe thead th {\n",
       "        text-align: right;\n",
       "    }\n",
       "</style>\n",
       "<table border=\"1\" class=\"dataframe\">\n",
       "  <thead>\n",
       "    <tr style=\"text-align: right;\">\n",
       "      <th></th>\n",
       "      <th>Resolution_Time_Hours</th>\n",
       "    </tr>\n",
       "  </thead>\n",
       "  <tbody>\n",
       "    <tr>\n",
       "      <th>count</th>\n",
       "      <td>1000.000000</td>\n",
       "    </tr>\n",
       "    <tr>\n",
       "      <th>mean</th>\n",
       "      <td>9.725100</td>\n",
       "    </tr>\n",
       "    <tr>\n",
       "      <th>std</th>\n",
       "      <td>9.725104</td>\n",
       "    </tr>\n",
       "    <tr>\n",
       "      <th>min</th>\n",
       "      <td>0.050000</td>\n",
       "    </tr>\n",
       "    <tr>\n",
       "      <th>25%</th>\n",
       "      <td>2.692500</td>\n",
       "    </tr>\n",
       "    <tr>\n",
       "      <th>50%</th>\n",
       "      <td>6.870000</td>\n",
       "    </tr>\n",
       "    <tr>\n",
       "      <th>75%</th>\n",
       "      <td>13.635000</td>\n",
       "    </tr>\n",
       "    <tr>\n",
       "      <th>max</th>\n",
       "      <td>81.720000</td>\n",
       "    </tr>\n",
       "  </tbody>\n",
       "</table>\n",
       "</div>"
      ],
      "text/plain": [
       "       Resolution_Time_Hours\n",
       "count            1000.000000\n",
       "mean                9.725100\n",
       "std                 9.725104\n",
       "min                 0.050000\n",
       "25%                 2.692500\n",
       "50%                 6.870000\n",
       "75%                13.635000\n",
       "max                81.720000"
      ]
     },
     "execution_count": 5,
     "metadata": {},
     "output_type": "execute_result"
    }
   ],
   "source": [
    "df.describe()"
   ]
  },
  {
   "cell_type": "code",
   "execution_count": 6,
   "id": "3dd46544",
   "metadata": {},
   "outputs": [
    {
     "data": {
      "text/plain": [
       "Ticket_ID                0\n",
       "Issue_Type               0\n",
       "Priority                 0\n",
       "Resolution_Time_Hours    0\n",
       "dtype: int64"
      ]
     },
     "execution_count": 6,
     "metadata": {},
     "output_type": "execute_result"
    }
   ],
   "source": [
    "df.isnull().sum()"
   ]
  },
  {
   "cell_type": "code",
   "execution_count": 7,
   "id": "9a199308",
   "metadata": {},
   "outputs": [
    {
     "data": {
      "text/plain": [
       "(1000, 4)"
      ]
     },
     "execution_count": 7,
     "metadata": {},
     "output_type": "execute_result"
    }
   ],
   "source": [
    "df.shape"
   ]
  },
  {
   "cell_type": "code",
   "execution_count": 8,
   "id": "c25d3253",
   "metadata": {},
   "outputs": [
    {
     "name": "stdout",
     "output_type": "stream",
     "text": [
      "Ticket_ID                0\n",
      "Issue_Type               0\n",
      "Priority                 0\n",
      "Resolution_Time_Hours    0\n",
      "dtype: int64\n"
     ]
    }
   ],
   "source": [
    "print(df.isnull().sum())"
   ]
  },
  {
   "cell_type": "markdown",
   "id": "51221ed7",
   "metadata": {},
   "source": [
    "# Data cleaning"
   ]
  },
  {
   "cell_type": "code",
   "execution_count": 9,
   "id": "602b8459",
   "metadata": {},
   "outputs": [],
   "source": [
    "#Remove duplicates\n",
    "df = df.drop_duplicates()"
   ]
  },
  {
   "cell_type": "code",
   "execution_count": 10,
   "id": "b43ace6f",
   "metadata": {
    "scrolled": true
   },
   "outputs": [
    {
     "data": {
      "text/html": [
       "<div>\n",
       "<style scoped>\n",
       "    .dataframe tbody tr th:only-of-type {\n",
       "        vertical-align: middle;\n",
       "    }\n",
       "\n",
       "    .dataframe tbody tr th {\n",
       "        vertical-align: top;\n",
       "    }\n",
       "\n",
       "    .dataframe thead th {\n",
       "        text-align: right;\n",
       "    }\n",
       "</style>\n",
       "<table border=\"1\" class=\"dataframe\">\n",
       "  <thead>\n",
       "    <tr style=\"text-align: right;\">\n",
       "      <th></th>\n",
       "      <th>Ticket_ID</th>\n",
       "      <th>Issue_Type</th>\n",
       "      <th>Priority</th>\n",
       "      <th>Resolution_Time_Hours</th>\n",
       "    </tr>\n",
       "  </thead>\n",
       "  <tbody>\n",
       "    <tr>\n",
       "      <th>0</th>\n",
       "      <td>TICKET_0001</td>\n",
       "      <td>Network Issue</td>\n",
       "      <td>High</td>\n",
       "      <td>4.69</td>\n",
       "    </tr>\n",
       "    <tr>\n",
       "      <th>1</th>\n",
       "      <td>TICKET_0002</td>\n",
       "      <td>Network Issue</td>\n",
       "      <td>High</td>\n",
       "      <td>30.10</td>\n",
       "    </tr>\n",
       "    <tr>\n",
       "      <th>2</th>\n",
       "      <td>TICKET_0003</td>\n",
       "      <td>Software Bug</td>\n",
       "      <td>Critical</td>\n",
       "      <td>13.17</td>\n",
       "    </tr>\n",
       "    <tr>\n",
       "      <th>3</th>\n",
       "      <td>TICKET_0004</td>\n",
       "      <td>Hardware Failure</td>\n",
       "      <td>Medium</td>\n",
       "      <td>9.13</td>\n",
       "    </tr>\n",
       "    <tr>\n",
       "      <th>4</th>\n",
       "      <td>TICKET_0005</td>\n",
       "      <td>Hardware Failure</td>\n",
       "      <td>Critical</td>\n",
       "      <td>1.70</td>\n",
       "    </tr>\n",
       "    <tr>\n",
       "      <th>...</th>\n",
       "      <td>...</td>\n",
       "      <td>...</td>\n",
       "      <td>...</td>\n",
       "      <td>...</td>\n",
       "    </tr>\n",
       "    <tr>\n",
       "      <th>995</th>\n",
       "      <td>TICKET_0996</td>\n",
       "      <td>User Request</td>\n",
       "      <td>Critical</td>\n",
       "      <td>0.96</td>\n",
       "    </tr>\n",
       "    <tr>\n",
       "      <th>996</th>\n",
       "      <td>TICKET_0997</td>\n",
       "      <td>Software Bug</td>\n",
       "      <td>Low</td>\n",
       "      <td>24.93</td>\n",
       "    </tr>\n",
       "    <tr>\n",
       "      <th>997</th>\n",
       "      <td>TICKET_0998</td>\n",
       "      <td>Security Breach</td>\n",
       "      <td>Medium</td>\n",
       "      <td>1.47</td>\n",
       "    </tr>\n",
       "    <tr>\n",
       "      <th>998</th>\n",
       "      <td>TICKET_0999</td>\n",
       "      <td>Software Bug</td>\n",
       "      <td>Low</td>\n",
       "      <td>30.00</td>\n",
       "    </tr>\n",
       "    <tr>\n",
       "      <th>999</th>\n",
       "      <td>TICKET_1000</td>\n",
       "      <td>Network Issue</td>\n",
       "      <td>Medium</td>\n",
       "      <td>5.91</td>\n",
       "    </tr>\n",
       "  </tbody>\n",
       "</table>\n",
       "<p>1000 rows × 4 columns</p>\n",
       "</div>"
      ],
      "text/plain": [
       "       Ticket_ID        Issue_Type  Priority  Resolution_Time_Hours\n",
       "0    TICKET_0001     Network Issue      High                   4.69\n",
       "1    TICKET_0002     Network Issue      High                  30.10\n",
       "2    TICKET_0003      Software Bug  Critical                  13.17\n",
       "3    TICKET_0004  Hardware Failure    Medium                   9.13\n",
       "4    TICKET_0005  Hardware Failure  Critical                   1.70\n",
       "..           ...               ...       ...                    ...\n",
       "995  TICKET_0996      User Request  Critical                   0.96\n",
       "996  TICKET_0997      Software Bug       Low                  24.93\n",
       "997  TICKET_0998   Security Breach    Medium                   1.47\n",
       "998  TICKET_0999      Software Bug       Low                  30.00\n",
       "999  TICKET_1000     Network Issue    Medium                   5.91\n",
       "\n",
       "[1000 rows x 4 columns]"
      ]
     },
     "execution_count": 10,
     "metadata": {},
     "output_type": "execute_result"
    }
   ],
   "source": [
    "df"
   ]
  },
  {
   "cell_type": "markdown",
   "id": "c0cb3b74",
   "metadata": {},
   "source": [
    "# Handling outliers"
   ]
  },
  {
   "cell_type": "code",
   "execution_count": 11,
   "id": "5907f9aa",
   "metadata": {},
   "outputs": [
    {
     "name": "stdout",
     "output_type": "stream",
     "text": [
      "-13.721250000000001 30.04875\n",
      "       Ticket_ID        Issue_Type  Priority  Resolution_Time_Hours\n",
      "1    TICKET_0002     Network Issue      High                  30.10\n",
      "11   TICKET_0012     Network Issue    Medium                  35.04\n",
      "34   TICKET_0035      Software Bug       Low                  33.71\n",
      "50   TICKET_0051      Software Bug  Critical                  34.93\n",
      "69   TICKET_0070  Hardware Failure    Medium                  43.34\n",
      "139  TICKET_0140      Software Bug    Medium                  35.68\n",
      "140  TICKET_0141   Security Breach  Critical                  32.82\n",
      "154  TICKET_0155   Security Breach  Critical                  42.44\n",
      "226  TICKET_0227      User Request    Medium                  36.12\n",
      "241  TICKET_0242  Hardware Failure  Critical                  30.78\n",
      "247  TICKET_0248   Security Breach       Low                  34.01\n",
      "248  TICKET_0249     Network Issue  Critical                  33.14\n",
      "261  TICKET_0262  Hardware Failure  Critical                  46.11\n",
      "305  TICKET_0306   Security Breach      High                  37.24\n",
      "313  TICKET_0314      Software Bug       Low                  32.87\n",
      "324  TICKET_0325     Network Issue    Medium                  30.98\n",
      "366  TICKET_0367     Network Issue      High                  32.49\n",
      "390  TICKET_0391      Software Bug       Low                  46.57\n",
      "412  TICKET_0413     Network Issue    Medium                  30.08\n",
      "441  TICKET_0442     Network Issue  Critical                  43.15\n",
      "446  TICKET_0447      Software Bug      High                  42.69\n",
      "464  TICKET_0465      Software Bug    Medium                  32.75\n",
      "469  TICKET_0470   Security Breach      High                  33.03\n",
      "471  TICKET_0472      User Request  Critical                  35.03\n",
      "475  TICKET_0476   Security Breach      High                  49.57\n",
      "478  TICKET_0479      User Request       Low                  34.84\n",
      "498  TICKET_0499   Security Breach       Low                  36.65\n",
      "499  TICKET_0500      User Request      High                  42.84\n",
      "518  TICKET_0519      User Request    Medium                  43.64\n",
      "522  TICKET_0523      User Request  Critical                  35.04\n",
      "531  TICKET_0532  Hardware Failure  Critical                  81.72\n",
      "532  TICKET_0533   Security Breach    Medium                  56.95\n",
      "540  TICKET_0541      User Request    Medium                  30.80\n",
      "581  TICKET_0582      User Request       Low                  39.14\n",
      "661  TICKET_0662  Hardware Failure  Critical                  43.06\n",
      "675  TICKET_0676     Network Issue       Low                  40.39\n",
      "678  TICKET_0679     Network Issue      High                  34.89\n",
      "705  TICKET_0706      User Request       Low                  46.01\n",
      "717  TICKET_0718   Security Breach    Medium                  33.53\n",
      "810  TICKET_0811      User Request      High                  41.89\n",
      "843  TICKET_0844     Network Issue    Medium                  32.46\n",
      "847  TICKET_0848     Network Issue    Medium                  57.68\n",
      "932  TICKET_0933   Security Breach  Critical                  41.61\n"
     ]
    }
   ],
   "source": [
    "#Outliers in 'Resolution_Time_Hours' column\n",
    "def is_outlier(col, data):\n",
    "    Q1 = data[col].quantile(0.25)\n",
    "    Q3 = data[col].quantile(0.75)\n",
    "    IQR = Q3 - Q1\n",
    "    lower_bound = Q1 - 1.5 * IQR\n",
    "    upper_bound = Q3 + 1.5 * IQR\n",
    "    print(lower_bound,upper_bound)\n",
    "    return data[(data[col] < lower_bound) | (data[col] > upper_bound)]\n",
    "\n",
    "outliers = is_outlier('Resolution_Time_Hours', df.copy())\n",
    "print(outliers)\n"
   ]
  },
  {
   "cell_type": "code",
   "execution_count": 12,
   "id": "b222ed1d",
   "metadata": {},
   "outputs": [
    {
     "data": {
      "image/png": "[encoded data removed]",
      "text/plain": [
       "<Figure size 1000x600 with 1 Axes>"
      ]
     },
     "metadata": {},
     "output_type": "display_data"
    }
   ],
   "source": [
    "#Finding outliers using data visualization technique(boxplot)\n",
    "from matplotlib import pyplot as plt\n",
    "plt.figure(figsize=(10, 6))  \n",
    "\n",
    "# Create boxplots for Resolution_Time_Hours column\n",
    "plt.subplot(1, 1, 1) \n",
    "plt.boxplot(df['Resolution_Time_Hours'])\n",
    "plt.xlabel('Resolution_Time_Hours')\n",
    "plt.ylabel('Value')\n",
    "plt.title(f'Boxplot for Resolution_Time_Hours')\n",
    "\n",
    "\n",
    "plt.grid(True)\n",
    "plt.suptitle('Boxplots of Numerical Features')\n",
    "plt.tight_layout()\n",
    "plt.show()"
   ]
  },
  {
   "cell_type": "markdown",
   "id": "bf37c4a7",
   "metadata": {},
   "source": [
    "# Creating / doing one-hot encoding"
   ]
  },
  {
   "cell_type": "code",
   "execution_count": 13,
   "id": "8eb6fca8",
   "metadata": {},
   "outputs": [],
   "source": [
    "numerical_cols=['Resolution_Time_Hours']\n",
    "categorical_cols=['Issue_Type','Priority']"
   ]
  },
  {
   "cell_type": "code",
   "execution_count": 14,
   "id": "cd96ad48",
   "metadata": {},
   "outputs": [
    {
     "name": "stderr",
     "output_type": "stream",
     "text": [
      "C:\\Users\\vedas\\anaconda3\\lib\\site-packages\\sklearn\\preprocessing\\_encoders.py:828: FutureWarning: `sparse` was renamed to `sparse_output` in version 1.2 and will be removed in 1.4. `sparse_output` is ignored unless you leave `sparse` to its default value.\n",
      "  warnings.warn(\n"
     ]
    },
    {
     "data": {
      "text/html": [
       "<div>\n",
       "<style scoped>\n",
       "    .dataframe tbody tr th:only-of-type {\n",
       "        vertical-align: middle;\n",
       "    }\n",
       "\n",
       "    .dataframe tbody tr th {\n",
       "        vertical-align: top;\n",
       "    }\n",
       "\n",
       "    .dataframe thead th {\n",
       "        text-align: right;\n",
       "    }\n",
       "</style>\n",
       "<table border=\"1\" class=\"dataframe\">\n",
       "  <thead>\n",
       "    <tr style=\"text-align: right;\">\n",
       "      <th></th>\n",
       "      <th>Issue_Type_Hardware Failure</th>\n",
       "      <th>Issue_Type_Network Issue</th>\n",
       "      <th>Issue_Type_Security Breach</th>\n",
       "      <th>Issue_Type_Software Bug</th>\n",
       "      <th>Issue_Type_User Request</th>\n",
       "      <th>Priority_Critical</th>\n",
       "      <th>Priority_High</th>\n",
       "      <th>Priority_Low</th>\n",
       "      <th>Priority_Medium</th>\n",
       "    </tr>\n",
       "  </thead>\n",
       "  <tbody>\n",
       "    <tr>\n",
       "      <th>0</th>\n",
       "      <td>0.0</td>\n",
       "      <td>1.0</td>\n",
       "      <td>0.0</td>\n",
       "      <td>0.0</td>\n",
       "      <td>0.0</td>\n",
       "      <td>0.0</td>\n",
       "      <td>1.0</td>\n",
       "      <td>0.0</td>\n",
       "      <td>0.0</td>\n",
       "    </tr>\n",
       "    <tr>\n",
       "      <th>1</th>\n",
       "      <td>0.0</td>\n",
       "      <td>1.0</td>\n",
       "      <td>0.0</td>\n",
       "      <td>0.0</td>\n",
       "      <td>0.0</td>\n",
       "      <td>0.0</td>\n",
       "      <td>1.0</td>\n",
       "      <td>0.0</td>\n",
       "      <td>0.0</td>\n",
       "    </tr>\n",
       "    <tr>\n",
       "      <th>2</th>\n",
       "      <td>0.0</td>\n",
       "      <td>0.0</td>\n",
       "      <td>0.0</td>\n",
       "      <td>1.0</td>\n",
       "      <td>0.0</td>\n",
       "      <td>1.0</td>\n",
       "      <td>0.0</td>\n",
       "      <td>0.0</td>\n",
       "      <td>0.0</td>\n",
       "    </tr>\n",
       "    <tr>\n",
       "      <th>3</th>\n",
       "      <td>1.0</td>\n",
       "      <td>0.0</td>\n",
       "      <td>0.0</td>\n",
       "      <td>0.0</td>\n",
       "      <td>0.0</td>\n",
       "      <td>0.0</td>\n",
       "      <td>0.0</td>\n",
       "      <td>0.0</td>\n",
       "      <td>1.0</td>\n",
       "    </tr>\n",
       "    <tr>\n",
       "      <th>4</th>\n",
       "      <td>1.0</td>\n",
       "      <td>0.0</td>\n",
       "      <td>0.0</td>\n",
       "      <td>0.0</td>\n",
       "      <td>0.0</td>\n",
       "      <td>1.0</td>\n",
       "      <td>0.0</td>\n",
       "      <td>0.0</td>\n",
       "      <td>0.0</td>\n",
       "    </tr>\n",
       "    <tr>\n",
       "      <th>...</th>\n",
       "      <td>...</td>\n",
       "      <td>...</td>\n",
       "      <td>...</td>\n",
       "      <td>...</td>\n",
       "      <td>...</td>\n",
       "      <td>...</td>\n",
       "      <td>...</td>\n",
       "      <td>...</td>\n",
       "      <td>...</td>\n",
       "    </tr>\n",
       "    <tr>\n",
       "      <th>995</th>\n",
       "      <td>0.0</td>\n",
       "      <td>0.0</td>\n",
       "      <td>0.0</td>\n",
       "      <td>0.0</td>\n",
       "      <td>1.0</td>\n",
       "      <td>1.0</td>\n",
       "      <td>0.0</td>\n",
       "      <td>0.0</td>\n",
       "      <td>0.0</td>\n",
       "    </tr>\n",
       "    <tr>\n",
       "      <th>996</th>\n",
       "      <td>0.0</td>\n",
       "      <td>0.0</td>\n",
       "      <td>0.0</td>\n",
       "      <td>1.0</td>\n",
       "      <td>0.0</td>\n",
       "      <td>0.0</td>\n",
       "      <td>0.0</td>\n",
       "      <td>1.0</td>\n",
       "      <td>0.0</td>\n",
       "    </tr>\n",
       "    <tr>\n",
       "      <th>997</th>\n",
       "      <td>0.0</td>\n",
       "      <td>0.0</td>\n",
       "      <td>1.0</td>\n",
       "      <td>0.0</td>\n",
       "      <td>0.0</td>\n",
       "      <td>0.0</td>\n",
       "      <td>0.0</td>\n",
       "      <td>0.0</td>\n",
       "      <td>1.0</td>\n",
       "    </tr>\n",
       "    <tr>\n",
       "      <th>998</th>\n",
       "      <td>0.0</td>\n",
       "      <td>0.0</td>\n",
       "      <td>0.0</td>\n",
       "      <td>1.0</td>\n",
       "      <td>0.0</td>\n",
       "      <td>0.0</td>\n",
       "      <td>0.0</td>\n",
       "      <td>1.0</td>\n",
       "      <td>0.0</td>\n",
       "    </tr>\n",
       "    <tr>\n",
       "      <th>999</th>\n",
       "      <td>0.0</td>\n",
       "      <td>1.0</td>\n",
       "      <td>0.0</td>\n",
       "      <td>0.0</td>\n",
       "      <td>0.0</td>\n",
       "      <td>0.0</td>\n",
       "      <td>0.0</td>\n",
       "      <td>0.0</td>\n",
       "      <td>1.0</td>\n",
       "    </tr>\n",
       "  </tbody>\n",
       "</table>\n",
       "<p>1000 rows × 9 columns</p>\n",
       "</div>"
      ],
      "text/plain": [
       "     Issue_Type_Hardware Failure  Issue_Type_Network Issue  \\\n",
       "0                            0.0                       1.0   \n",
       "1                            0.0                       1.0   \n",
       "2                            0.0                       0.0   \n",
       "3                            1.0                       0.0   \n",
       "4                            1.0                       0.0   \n",
       "..                           ...                       ...   \n",
       "995                          0.0                       0.0   \n",
       "996                          0.0                       0.0   \n",
       "997                          0.0                       0.0   \n",
       "998                          0.0                       0.0   \n",
       "999                          0.0                       1.0   \n",
       "\n",
       "     Issue_Type_Security Breach  Issue_Type_Software Bug  \\\n",
       "0                           0.0                      0.0   \n",
       "1                           0.0                      0.0   \n",
       "2                           0.0                      1.0   \n",
       "3                           0.0                      0.0   \n",
       "4                           0.0                      0.0   \n",
       "..                          ...                      ...   \n",
       "995                         0.0                      0.0   \n",
       "996                         0.0                      1.0   \n",
       "997                         1.0                      0.0   \n",
       "998                         0.0                      1.0   \n",
       "999                         0.0                      0.0   \n",
       "\n",
       "     Issue_Type_User Request  Priority_Critical  Priority_High  Priority_Low  \\\n",
       "0                        0.0                0.0            1.0           0.0   \n",
       "1                        0.0                0.0            1.0           0.0   \n",
       "2                        0.0                1.0            0.0           0.0   \n",
       "3                        0.0                0.0            0.0           0.0   \n",
       "4                        0.0                1.0            0.0           0.0   \n",
       "..                       ...                ...            ...           ...   \n",
       "995                      1.0                1.0            0.0           0.0   \n",
       "996                      0.0                0.0            0.0           1.0   \n",
       "997                      0.0                0.0            0.0           0.0   \n",
       "998                      0.0                0.0            0.0           1.0   \n",
       "999                      0.0                0.0            0.0           0.0   \n",
       "\n",
       "     Priority_Medium  \n",
       "0                0.0  \n",
       "1                0.0  \n",
       "2                0.0  \n",
       "3                1.0  \n",
       "4                0.0  \n",
       "..               ...  \n",
       "995              0.0  \n",
       "996              0.0  \n",
       "997              1.0  \n",
       "998              0.0  \n",
       "999              1.0  \n",
       "\n",
       "[1000 rows x 9 columns]"
      ]
     },
     "execution_count": 14,
     "metadata": {},
     "output_type": "execute_result"
    }
   ],
   "source": [
    "# import StandardScaler and OneHotEncoder from sklearn\n",
    "from sklearn.preprocessing import StandardScaler, OneHotEncoder\n",
    "\n",
    "# Separate numerical and categorical data\n",
    "numerical_data = df[numerical_cols]\n",
    "categorical_data = df[categorical_cols]\n",
    "\n",
    "# Encode categorical variables (one-hot encoding)\n",
    "encoder = OneHotEncoder(sparse=False)  # Drop first category to avoid dummy trap\n",
    "encoded_data = encoder.fit_transform(categorical_data)\n",
    "\n",
    "# Combine transformed data\n",
    "transformed_data =pd.DataFrame(encoded_data, columns=encoder.get_feature_names_out(categorical_cols))\n",
    "\n",
    "\n",
    "# Now you have your transformed data in 'transformed_data' DataFrame\n",
    "transformed_data\n"
   ]
  },
  {
   "cell_type": "markdown",
   "id": "0ef7be59",
   "metadata": {},
   "source": [
    "# Data Visualization"
   ]
  },
  {
   "cell_type": "code",
   "execution_count": 15,
   "id": "a23b0642",
   "metadata": {},
   "outputs": [
    {
     "data": {
      "image/png": "[encoded data removed]",
      "text/plain": [
       "<Figure size 600x400 with 1 Axes>"
      ]
     },
     "metadata": {},
     "output_type": "display_data"
    },
    {
     "data": {
      "image/png": "[encoded data removed]",
      "text/plain": [
       "<Figure size 600x400 with 1 Axes>"
      ]
     },
     "metadata": {},
     "output_type": "display_data"
    }
   ],
   "source": [
    "# Count Plots (categorical features)\n",
    "# Create count plots to visualize the distribution of categorical features\n",
    "for col in categorical_cols:\n",
    "  plt.figure(figsize=(6, 4))\n",
    "  sns.countplot(x=col, data=df)\n",
    "  plt.title(f'Distribution of {col}')\n",
    "  plt.xticks(rotation=45)  # Rotate x-axis labels for readability\n",
    "  plt.show()\n"
   ]
  },
  {
   "cell_type": "code",
   "execution_count": 16,
   "id": "c5b669fa",
   "metadata": {},
   "outputs": [
    {
     "data": {
      "image/png": "[encoded data removed]",
      "text/plain": [
       "<Figure size 600x400 with 1 Axes>"
      ]
     },
     "metadata": {},
     "output_type": "display_data"
    }
   ],
   "source": [
    "#histplots\n",
    "for col in numerical_cols:\n",
    "    plt.figure(figsize=(6, 4))\n",
    "    sns.histplot(df[col])\n",
    "    plt.title(f'Distribution of {col}')\n",
    "    plt.show()"
   ]
  },
  {
   "cell_type": "code",
   "execution_count": 17,
   "id": "9658981e",
   "metadata": {},
   "outputs": [
    {
     "name": "stderr",
     "output_type": "stream",
     "text": [
      "C:\\Users\\vedas\\AppData\\Local\\Temp\\ipykernel_36384\\1879391359.py:1: UserWarning: \n",
      "\n",
      "`distplot` is a deprecated function and will be removed in seaborn v0.14.0.\n",
      "\n",
      "Please adapt your code to use either `displot` (a figure-level function with\n",
      "similar flexibility) or `histplot` (an axes-level function for histograms).\n",
      "\n",
      "For a guide to updating your code to use the new functions, please see\n",
      "https://gist.github.com/mwaskom/de44147ed2974457ad6372750bbe5751\n",
      "\n",
      "  sns.distplot(df['Resolution_Time_Hours'])\n"
     ]
    },
    {
     "data": {
      "text/plain": [
       "<Axes: xlabel='Resolution_Time_Hours', ylabel='Density'>"
      ]
     },
     "execution_count": 17,
     "metadata": {},
     "output_type": "execute_result"
    },
    {
     "data": {
      "image/png": "[encoded data removed]",
      "text/plain": [
       "<Figure size 640x480 with 1 Axes>"
      ]
     },
     "metadata": {},
     "output_type": "display_data"
    }
   ],
   "source": [
    "sns.distplot(df['Resolution_Time_Hours'])"
   ]
  },
  {
   "cell_type": "markdown",
   "id": "0c32a010",
   "metadata": {},
   "source": [
    "# Building Model"
   ]
  },
  {
   "cell_type": "code",
   "execution_count": 18,
   "id": "775429d1",
   "metadata": {},
   "outputs": [],
   "source": [
    "features = [ \"Issue_Type\", \"Priority\"] \n",
    "target = \"Resolution_Time_Hours\""
   ]
  },
  {
   "cell_type": "code",
   "execution_count": 19,
   "id": "7d86f2f2",
   "metadata": {},
   "outputs": [],
   "source": [
    "# Split the data into training and testing sets\n",
    "X_train, X_test, y_train, y_test = train_test_split(transformed_data, df[target], test_size=0.2)"
   ]
  },
  {
   "cell_type": "code",
   "execution_count": 20,
   "id": "f42b78f0",
   "metadata": {},
   "outputs": [],
   "source": [
    "# Create a linear regression model\n",
    "model = LinearRegression()\n"
   ]
  },
  {
   "cell_type": "code",
   "execution_count": 21,
   "id": "0761484c",
   "metadata": {},
   "outputs": [
    {
     "data": {
      "text/html": [
       "<style>#sk-container-id-1 {color: black;background-color: white;}#sk-container-id-1 pre{padding: 0;}#sk-container-id-1 div.sk-toggleable {background-color: white;}#sk-container-id-1 label.sk-toggleable__label {cursor: pointer;display: block;width: 100%;margin-bottom: 0;padding: 0.3em;box-sizing: border-box;text-align: center;}#sk-container-id-1 label.sk-toggleable__label-arrow:before {content: \"▸\";float: left;margin-right: 0.25em;color: #696969;}#sk-container-id-1 label.sk-toggleable__label-arrow:hover:before {color: black;}#sk-container-id-1 div.sk-estimator:hover label.sk-toggleable__label-arrow:before {color: black;}#sk-container-id-1 div.sk-toggleable__content {max-height: 0;max-width: 0;overflow: hidden;text-align: left;background-color: #f0f8ff;}#sk-container-id-1 div.sk-toggleable__content pre {margin: 0.2em;color: black;border-radius: 0.25em;background-color: #f0f8ff;}#sk-container-id-1 input.sk-toggleable__control:checked~div.sk-toggleable__content {max-height: 200px;max-width: 100%;overflow: auto;}#sk-container-id-1 input.sk-toggleable__control:checked~label.sk-toggleable__label-arrow:before {content: \"▾\";}#sk-container-id-1 div.sk-estimator input.sk-toggleable__control:checked~label.sk-toggleable__label {background-color: #d4ebff;}#sk-container-id-1 div.sk-label input.sk-toggleable__control:checked~label.sk-toggleable__label {background-color: #d4ebff;}#sk-container-id-1 input.sk-hidden--visually {border: 0;clip: rect(1px 1px 1px 1px);clip: rect(1px, 1px, 1px, 1px);height: 1px;margin: -1px;overflow: hidden;padding: 0;position: absolute;width: 1px;}#sk-container-id-1 div.sk-estimator {font-family: monospace;background-color: #f0f8ff;border: 1px dotted black;border-radius: 0.25em;box-sizing: border-box;margin-bottom: 0.5em;}#sk-container-id-1 div.sk-estimator:hover {background-color: #d4ebff;}#sk-container-id-1 div.sk-parallel-item::after {content: \"\";width: 100%;border-bottom: 1px solid gray;flex-grow: 1;}#sk-container-id-1 div.sk-label:hover label.sk-toggleable__label {background-color: #d4ebff;}#sk-container-id-1 div.sk-serial::before {content: \"\";position: absolute;border-left: 1px solid gray;box-sizing: border-box;top: 0;bottom: 0;left: 50%;z-index: 0;}#sk-container-id-1 div.sk-serial {display: flex;flex-direction: column;align-items: center;background-color: white;padding-right: 0.2em;padding-left: 0.2em;position: relative;}#sk-container-id-1 div.sk-item {position: relative;z-index: 1;}#sk-container-id-1 div.sk-parallel {display: flex;align-items: stretch;justify-content: center;background-color: white;position: relative;}#sk-container-id-1 div.sk-item::before, #sk-container-id-1 div.sk-parallel-item::before {content: \"\";position: absolute;border-left: 1px solid gray;box-sizing: border-box;top: 0;bottom: 0;left: 50%;z-index: -1;}#sk-container-id-1 div.sk-parallel-item {display: flex;flex-direction: column;z-index: 1;position: relative;background-color: white;}#sk-container-id-1 div.sk-parallel-item:first-child::after {align-self: flex-end;width: 50%;}#sk-container-id-1 div.sk-parallel-item:last-child::after {align-self: flex-start;width: 50%;}#sk-container-id-1 div.sk-parallel-item:only-child::after {width: 0;}#sk-container-id-1 div.sk-dashed-wrapped {border: 1px dashed gray;margin: 0 0.4em 0.5em 0.4em;box-sizing: border-box;padding-bottom: 0.4em;background-color: white;}#sk-container-id-1 div.sk-label label {font-family: monospace;font-weight: bold;display: inline-block;line-height: 1.2em;}#sk-container-id-1 div.sk-label-container {text-align: center;}#sk-container-id-1 div.sk-container {/* jupyter's `normalize.less` sets `[hidden] { display: none; }` but bootstrap.min.css set `[hidden] { display: none !important; }` so we also need the `!important` here to be able to override the default hidden behavior on the sphinx rendered scikit-learn.org. See: https://github.com/scikit-learn/scikit-learn/issues/21755 */display: inline-block !important;position: relative;}#sk-container-id-1 div.sk-text-repr-fallback {display: none;}</style><div id=\"sk-container-id-1\" class=\"sk-top-container\"><div class=\"sk-text-repr-fallback\"><pre>LinearRegression()</pre><b>In a Jupyter environment, please rerun this cell to show the HTML representation or trust the notebook. <br />On GitHub, the HTML representation is unable to render, please try loading this page with nbviewer.org.</b></div><div class=\"sk-container\" hidden><div class=\"sk-item\"><div class=\"sk-estimator sk-toggleable\"><input class=\"sk-toggleable__control sk-hidden--visually\" id=\"sk-estimator-id-1\" type=\"checkbox\" checked><label for=\"sk-estimator-id-1\" class=\"sk-toggleable__label sk-toggleable__label-arrow\">LinearRegression</label><div class=\"sk-toggleable__content\"><pre>LinearRegression()</pre></div></div></div></div></div>"
      ],
      "text/plain": [
       "LinearRegression()"
      ]
     },
     "execution_count": 21,
     "metadata": {},
     "output_type": "execute_result"
    }
   ],
   "source": [
    "# Train the model\n",
    "model.fit(X_train, y_train)"
   ]
  },
  {
   "cell_type": "code",
   "execution_count": 22,
   "id": "da40f1ba",
   "metadata": {},
   "outputs": [],
   "source": [
    "# Make predictions on the testing set\n",
    "predictions = model.predict(X_test)\n"
   ]
  },
  {
   "cell_type": "code",
   "execution_count": 23,
   "id": "67f7ae83",
   "metadata": {},
   "outputs": [
    {
     "name": "stdout",
     "output_type": "stream",
     "text": [
      "[ 9.671875  7.578125  7.40625   9.6875    9.6875    9.6875   11.140625\n",
      " 10.296875 10.296875 10.84375   9.375     7.40625   9.046875  9.984375\n",
      "  8.828125  9.359375  8.21875   9.375     9.984375  8.671875  9.046875\n",
      "  9.484375  9.046875  8.046875  8.046875  8.046875 10.84375   9.203125\n",
      " 10.796875  7.40625  10.515625 10.296875 10.296875 10.296875  7.578125\n",
      "  8.71875  10.296875  9.6875    9.984375  9.984375 10.84375   8.046875\n",
      "  8.046875 10.84375   8.71875   9.484375  8.71875   7.40625  10.515625\n",
      "  8.21875   8.828125  9.203125  8.828125  9.6875    9.375     7.40625\n",
      "  9.203125  9.046875 10.296875  9.375     7.578125 10.515625 10.296875\n",
      " 10.796875  9.484375  8.046875  9.203125  8.828125  7.578125  9.375\n",
      "  8.71875   8.046875  8.671875  8.046875  9.375     8.828125  8.046875\n",
      " 10.515625  7.40625   9.484375 10.296875  9.046875  8.21875  10.796875\n",
      "  9.671875 10.515625  9.671875  9.484375  8.671875 10.296875  8.828125\n",
      " 10.796875  9.484375  9.203125  7.40625   7.40625   8.71875  10.84375\n",
      "  9.6875    9.203125 10.515625 10.84375   8.21875  10.796875  9.484375\n",
      "  9.984375  8.21875   7.40625   8.046875  7.40625  10.296875  9.984375\n",
      "  8.828125  8.046875 10.84375   9.484375  8.046875 10.796875 10.796875\n",
      " 10.84375   9.375     8.046875 11.140625 10.84375   7.40625  10.296875\n",
      " 11.140625  9.203125 10.796875 11.140625 10.296875 10.796875 11.140625\n",
      "  9.375     9.359375  8.71875   9.203125 10.84375   7.578125  7.578125\n",
      "  8.046875 10.515625  7.578125  9.359375  8.671875  8.21875   8.828125\n",
      " 10.796875  9.6875   11.140625  9.375     7.578125  7.40625   9.375\n",
      "  9.359375  9.671875  9.046875 10.296875  9.046875 10.296875  9.671875\n",
      " 10.515625  9.046875  8.828125 10.796875  9.046875  9.375     8.71875\n",
      "  9.484375  9.984375  9.984375  9.203125 10.84375   7.40625  10.515625\n",
      "  9.671875 10.515625  9.359375  8.71875   9.203125  9.484375 11.140625\n",
      " 11.140625 10.796875  9.203125  7.578125  9.203125  9.671875  7.40625\n",
      "  8.71875  11.140625  8.71875  10.796875 10.796875  9.046875  9.203125\n",
      " 10.296875 10.84375   7.40625   8.046875]\n"
     ]
    }
   ],
   "source": [
    "print(predictions)"
   ]
  },
  {
   "cell_type": "code",
   "execution_count": 27,
   "id": "6fe83d89",
   "metadata": {},
   "outputs": [
    {
     "name": "stdout",
     "output_type": "stream",
     "text": [
      "Predicted resolution time for the new ticket: 7.40625 hrs\n"
     ]
    },
    {
     "name": "stderr",
     "output_type": "stream",
     "text": [
      "C:\\Users\\vedas\\anaconda3\\lib\\site-packages\\sklearn\\base.py:420: UserWarning: X does not have valid feature names, but LinearRegression was fitted with feature names\n",
      "  warnings.warn(\n"
     ]
    }
   ],
   "source": [
    "# Example of raw data with categorical features\n",
    "raw_data = [['Issue_Type_Hardware Failure', 'Priority_High']] \n",
    "\n",
    "# Define the encoder and fit it to your categories\n",
    "encoder = OneHotEncoder()\n",
    "encoder.fit([['Issue_Type_Hardware Failure', 'Priority_Critical'],\n",
    "             ['Issue_Type_Network Issue', 'Priority_High'],\n",
    "             ['Issue_Type_Security Breach', 'Priority_Low'],\n",
    "             ['Issue_Type_Software Bug', 'Priority_Medium'],\n",
    "             ['Issue_Type_User Request', 'Priority_Critical'],\n",
    "             # Add all unique categories present in your training data\n",
    "            ])\n",
    "\n",
    "# Transform the raw data to one-hot encoded numeric format\n",
    "encoded_data = encoder.transform(raw_data).toarray()\n",
    "\n",
    "# Ensure the data is in the correct shape (1 sample, n features)\n",
    "encoded_data = encoded_data.reshape(1, -1)\n",
    "\n",
    "# Predict using the model\n",
    "predicted_resolution_time = model.predict(encoded_data)[0]\n",
    "\n",
    "print(\"Predicted resolution time for the new ticket:\", predicted_resolution_time,\"hrs\")\n"
   ]
  },
  {
   "cell_type": "code",
   "execution_count": 25,
   "id": "cea407e0",
   "metadata": {},
   "outputs": [
    {
     "name": "stdout",
     "output_type": "stream",
     "text": [
      "Predicted resolution time for ticket 1: 7.40625 hrs\n",
      "Predicted resolution time for ticket 2: 9.375 hrs\n",
      "Predicted resolution time for ticket 3: 9.984375 hrs\n",
      "Predicted resolution time for ticket 4: 9.6875 hrs\n",
      "Predicted resolution time for ticket 5: 9.484375 hrs\n",
      "Predicted resolution time for ticket 6: 9.046875 hrs\n",
      "Predicted resolution time for ticket 7: 10.515625 hrs\n",
      "Predicted resolution time for ticket 8: 8.671875 hrs\n",
      "Predicted resolution time for ticket 9: 8.21875 hrs\n",
      "Predicted resolution time for ticket 10: 10.796875 hrs\n"
     ]
    },
    {
     "name": "stderr",
     "output_type": "stream",
     "text": [
      "C:\\Users\\vedas\\anaconda3\\lib\\site-packages\\sklearn\\base.py:420: UserWarning: X does not have valid feature names, but LinearRegression was fitted with feature names\n",
      "  warnings.warn(\n"
     ]
    }
   ],
   "source": [
    "# Example of 10 raw data points with categorical features\n",
    "raw_data = [\n",
    "    ['Issue_Type_Hardware Failure', 'Priority_High'],\n",
    "    ['Issue_Type_Network Issue', 'Priority_Critical'],\n",
    "    ['Issue_Type_Security Breach', 'Priority_Low'],\n",
    "    ['Issue_Type_Software Bug', 'Priority_Medium'],\n",
    "    ['Issue_Type_User Request', 'Priority_High'],\n",
    "    ['Issue_Type_Hardware Failure', 'Priority_Medium'],\n",
    "    ['Issue_Type_Network Issue', 'Priority_Low'],\n",
    "    ['Issue_Type_Security Breach', 'Priority_High'],\n",
    "    ['Issue_Type_Software Bug', 'Priority_Critical'],\n",
    "    ['Issue_Type_User Request', 'Priority_Low']\n",
    "]\n",
    "\n",
    "# Define the encoder and fit it to your categories\n",
    "encoder = OneHotEncoder()\n",
    "encoder.fit([\n",
    "    ['Issue_Type_Hardware Failure', 'Priority_Critical'],\n",
    "    ['Issue_Type_Network Issue', 'Priority_High'],\n",
    "    ['Issue_Type_Security Breach', 'Priority_Low'],\n",
    "    ['Issue_Type_Software Bug', 'Priority_Medium'],\n",
    "    ['Issue_Type_User Request', 'Priority_Critical'],\n",
    "])\n",
    "\n",
    "# Transform the raw data to one-hot encoded numeric format\n",
    "encoded_data = encoder.transform(raw_data).toarray()\n",
    "\n",
    "# Predict using the model\n",
    "predicted_resolution_times = model.predict(encoded_data)\n",
    "\n",
    "# Print the predicted resolution times for the new tickets\n",
    "for i, prediction in enumerate(predicted_resolution_times):\n",
    "    print(f\"Predicted resolution time for ticket {i+1}: {prediction} hrs\")\n"
   ]
  },
  {
   "cell_type": "code",
   "execution_count": 26,
   "id": "a13c0ecb",
   "metadata": {},
   "outputs": [
    {
     "name": "stdout",
     "output_type": "stream",
     "text": [
      "Mean Squared Error: 142.8987442792969\n",
      "Mean Absolute Error: 8.235909375\n",
      "R-squared: -0.05242130180658844\n"
     ]
    }
   ],
   "source": [
    "from sklearn.metrics import mean_squared_error, mean_absolute_error, r2_score\n",
    "\n",
    "\n",
    "# Evaluate the model's performance\n",
    "mse = mean_squared_error(y_test, predictions)\n",
    "mae = mean_absolute_error(y_test, predictions)\n",
    "r2 = r2_score(y_test, predictions)\n",
    "\n",
    "print(\"Mean Squared Error:\", mse)\n",
    "print(\"Mean Absolute Error:\", mae)\n",
    "print(\"R-squared:\", r2)\n"
   ]
  },
  {
   "cell_type": "code",
   "execution_count": null,
   "id": "ba3f6128",
   "metadata": {},
   "outputs": [],
   "source": []
  }
 ],
 "metadata": {
  "kernelspec": {
   "display_name": "Python 3 (ipykernel)",
   "language": "python",
   "name": "python3"
  },
  "language_info": {
   "codemirror_mode": {
    "name": "ipython",
    "version": 3
   },
   "file_extension": ".py",
   "mimetype": "text/x-python",
   "name": "python",
   "nbconvert_exporter": "python",
   "pygments_lexer": "ipython3",
   "version": "3.10.9"
  }
 },
 "nbformat": 4,
 "nbformat_minor": 5
}
